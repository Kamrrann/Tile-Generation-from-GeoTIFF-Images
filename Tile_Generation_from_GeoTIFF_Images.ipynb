{
 "cells": [
  {
   "cell_type": "markdown",
   "metadata": {},
   "source": [
    "# Tile Generation from GeoTIFF Images"
   ]
  },
  {
   "cell_type": "markdown",
   "metadata": {},
   "source": [
    "In this notebook, a Python script designed to facilitate the generation of smaller tiles from large GeoTIFF images. The process involves partitioning the images into manageable sections, often referred to as tiles, which can be useful for various applications such as processing large datasets in smaller chunks or serving imagery over the web efficiently."
   ]
  },
  {
   "cell_type": "code",
   "execution_count": 2,
   "metadata": {},
   "outputs": [],
   "source": [
    "# import all necessary libraries\n",
    "import os\n",
    "from itertools import product\n",
    "import rasterio as rio\n",
    "from rasterio import windows"
   ]
  },
  {
   "cell_type": "markdown",
   "metadata": {},
   "source": [
    "Now we will read GeoTIFF images from a specified input directory (in_path), divide them into smaller tiles, and save these tiles to an output directory (out_path)."
   ]
  },
  {
   "cell_type": "code",
   "execution_count": null,
   "metadata": {},
   "outputs": [],
   "source": [
    "in_path = 'D:\\\\images\\\\'\n",
    "# input_filename = 'image.tif'\n",
    " \n",
    "out_path = 'D:\\\\5_5_patches\\\\'\n",
    "# output_filename = 'tile_{}-{}.tif'\n",
    "w=0\n",
    "def get_tiles(ds, width=5, height=5):\n",
    "    nols, nrows = ds.meta['width'], ds.meta['height']\n",
    "    offsets = product(range(0, nols, width), range(0, nrows, height))\n",
    "    big_window = windows.Window(col_off=0, row_off=0, width=nols, height=nrows)\n",
    "    for col_off, row_off in  offsets:\n",
    "        window =windows.Window(col_off=col_off, row_off=row_off, width=width, height=height).intersection(big_window)\n",
    "        transform = windows.transform(window, ds.transform)\n",
    "        yield window, transform\n",
    "\n",
    "image_files = [f for f in os.listdir(in_path) if f.endswith('.tif')]\n",
    "for file in image_files:\n",
    "    with rio.open(os.path.join(in_path+file)) as inds:\n",
    "        tile_width, tile_height =5,5\n",
    "\n",
    "        meta = inds.meta.copy()\n",
    "\n",
    "        for window, transform in get_tiles(inds):\n",
    "            print(window)\n",
    "            meta['transform'] = transform\n",
    "            meta['width'], meta['height'] = window.width, window.height\n",
    "            outpath = os.path.join(out_path,format(w)+file.format(int(window.col_off), int(window.row_off)))\n",
    "            with rio.open(outpath, 'w', **meta) as outds:\n",
    "                outds.write(inds.read(window=window))\n",
    "                w=w+1"
   ]
  }
 ],
 "metadata": {
  "kernelspec": {
   "display_name": "Python 3",
   "language": "python",
   "name": "python3"
  },
  "language_info": {
   "codemirror_mode": {
    "name": "ipython",
    "version": 3
   },
   "file_extension": ".py",
   "mimetype": "text/x-python",
   "name": "python",
   "nbconvert_exporter": "python",
   "pygments_lexer": "ipython3",
   "version": "3.7.3"
  }
 },
 "nbformat": 4,
 "nbformat_minor": 4
}
